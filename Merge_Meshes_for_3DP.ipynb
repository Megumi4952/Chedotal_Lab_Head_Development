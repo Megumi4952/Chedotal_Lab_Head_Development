{
 "cells": [
  {
   "cell_type": "code",
   "execution_count": 1,
   "id": "9d2eef78",
   "metadata": {
    "id": "9d2eef78"
   },
   "outputs": [],
   "source": [
    "import os\n",
    "import pymeshlab\n",
    "from vedo import Mesh, Plotter, Volume\n",
    "import numpy as np"
   ]
  },
  {
   "cell_type": "code",
   "execution_count": 2,
   "id": "e124a4d4",
   "metadata": {},
   "outputs": [],
   "source": [
    "# Specify the input folder containing OBJ files\n",
    "input_folder = \"/Users/minoue/Desktop/Raphy_skull\"\n",
    "\n",
    "# Specify the output STL file\n",
    "output_obj_file = \"/Users/minoue/Desktop/Raphy_skull/single_mesh.obj\"\n",
    "\n",
    "# Specigy the isotropic volume voxel size and output image stack \n",
    "voxel = 7 # This is in the same unit as your mesh\n",
    "output_tiff_file = \"/Users/minoue/Desktop/Raphy_skull/voxelized_img.tiff\""
   ]
  },
  {
   "cell_type": "code",
   "execution_count": 3,
   "id": "c0f4ce82",
   "metadata": {
    "id": "c0f4ce82"
   },
   "outputs": [],
   "source": [
    "def flatten_meshes(input_folder):\n",
    "    # Initialize a MeshSet object\n",
    "    ms = pymeshlab.MeshSet()\n",
    "\n",
    "    # Iterate through each input OBJ file\n",
    "    for obj_file in os.listdir(input_folder):\n",
    "        if obj_file.endswith(\".obj\"):\n",
    "            # Construct the full path to the input OBJ file\n",
    "            obj_path = os.path.join(input_folder, obj_file)\n",
    "\n",
    "            # Load the OBJ file into the MeshSet\n",
    "            ms.load_new_mesh(obj_path)\n",
    "\n",
    "    # Merge all loaded meshes into one\n",
    "    ms.generate_by_merging_visible_meshes()\n",
    "    return ms"
   ]
  },
  {
   "cell_type": "code",
   "execution_count": 4,
   "id": "370b684d",
   "metadata": {
    "id": "370b684d"
   },
   "outputs": [
    {
     "name": "stdout",
     "output_type": "stream",
     "text": [
      "Processed mesh saved as '/Users/minoue/Desktop/Raphy_skull/single_mesh.obj'\n"
     ]
    }
   ],
   "source": [
    "if __name__ == \"__main__\":\n",
    "\n",
    "    # Create the MeshSet by flattening all OBJ files\n",
    "    flattened_mesh = flatten_meshes(input_folder)\n",
    "\n",
    "    # Perform Laplacian smoothing\n",
    "    flattened_mesh.apply_filter('apply_coord_laplacian_smoothing')\n",
    "\n",
    "    # Decimate the mesh to the target face number (e.g., 1,000,000)\n",
    "    flattened_mesh.apply_filter(\"meshing_decimation_quadric_edge_collapse\", targetfacenum=1000000)\n",
    "\n",
    "    # Save the merged and processed mesh as a single STL file\n",
    "    flattened_mesh.save_current_mesh(output_obj_file, save_face_color=False)\n",
    "\n",
    "    print(f\"Processed mesh saved as '{output_obj_file}'\")"
   ]
  },
  {
   "cell_type": "code",
   "execution_count": 5,
   "id": "d144a171",
   "metadata": {
    "id": "d144a171"
   },
   "outputs": [
    {
     "data": {
      "text/html": [
       "<table>\n",
       "<tr>\n",
       "<td>\n",
       "<img src='data:image/png;base64,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'></img>\n",
       "</td>\n",
       "<td style='text-align: center; vertical-align: center;'><br/>\n",
       "<b><a href=\"https://vedo.embl.es/docs/vedo/volume.html\" target=\"_blank\">vedo.volume.Volume</a></b>\n",
       "<table>\n",
       "<tr><td><b> bounds </b> <br/> (x/y/z) </td><td>7626 ... 1.146e+4<br/>7998 ... 9055<br/>2150 ... 6056</td></tr>\n",
       "<tr><td><b> dimensions </b></td><td>(548, 152, 559)</td></tr>\n",
       "<tr><td><b> voxel spacing </b></td><td>(7.00, 7.00, 7.00)</td></tr>\n",
       "<tr><td><b> in memory size </b></td><td>44MB</td></tr>\n",
       "<tr><td><b> point data array </b></td><td>ImageScalars</td></tr>\n",
       "\n",
       "<tr><td><b> scalar range </b></td><td>(0, 255.0)</td></tr>\n",
       "</table>\n",
       "</table>"
      ],
      "text/plain": [
       "<Volume(0x7fcdb724c600) at 0x7fcdcb643580>"
      ]
     },
     "execution_count": 5,
     "metadata": {},
     "output_type": "execute_result"
    }
   ],
   "source": [
    "# Binarize and export as tiff\n",
    "# Set export voxel size\n",
    "surf = Mesh(output_obj_file)\n",
    "vol = surf.binarize(spacing=(voxel,voxel,voxel))\n",
    "vol.write(output_tiff_file)"
   ]
  }
 ],
 "metadata": {
  "colab": {
   "provenance": []
  },
  "kernelspec": {
   "display_name": "Python 3 (ipykernel)",
   "language": "python",
   "name": "python3"
  },
  "language_info": {
   "codemirror_mode": {
    "name": "ipython",
    "version": 3
   },
   "file_extension": ".py",
   "mimetype": "text/x-python",
   "name": "python",
   "nbconvert_exporter": "python",
   "pygments_lexer": "ipython3",
   "version": "3.8.13"
  }
 },
 "nbformat": 4,
 "nbformat_minor": 5
}
