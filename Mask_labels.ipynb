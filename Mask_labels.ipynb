{
 "cells": [
  {
   "cell_type": "markdown",
   "id": "09ea1b77-1491-493b-939e-dd7ff90e33d6",
   "metadata": {},
   "source": [
    "## Jupyter Notebook for extracting raw data from Syglass-generated labels to generate pseudocolored independent images for visualization"
   ]
  },
  {
   "cell_type": "markdown",
   "id": "0409e266-2143-48de-8b82-c133cf49cb52",
   "metadata": {},
   "source": [
    "import os\n",
    "import numpy as np\n",
    "from tifffile import imread, imwrite\n",
    "import pandas as pd\n",
    "from skimage.measure import regionprops_table"
   ]
  },
  {
   "cell_type": "code",
   "execution_count": 2,
   "id": "4d880e02-e953-4a3e-8f0e-499c3d0cc728",
   "metadata": {},
   "outputs": [],
   "source": [
    "image_location = r'D:\\Raphael\\Aivia\\11-52-32_AC300_Whole_PCW6-5_4X_06Z_5-MHC_6-chAT_7-Pax7_4u_lr_Sy16b_ROI-57_Image'\n",
    "mask_location = r'D:\\Raphael\\Aivia\\11-52-32_AC300_Whole_PCW6-5_4X_06Z_5-MHC_6-chAT_7-Pax7_4u_lr_Sy16b_ROI-57_Mask'\n",
    "result_folder = r'D:\\Raphael\\Aivia\\masked_c'"
   ]
  },
  {
   "cell_type": "code",
   "execution_count": 3,
   "id": "0fdf3740-36ce-4f12-9020-2ace90a87b88",
   "metadata": {},
   "outputs": [
    {
     "name": "stdout",
     "output_type": "stream",
     "text": [
      "getting statistics on: 11-52-32_AC300_Whole_PCW6-5_4X_06Z_5-MHC_6-chAT_7-Pax7_4u_lr_Sy16b_ROI-57_C-1_Z_aivia.aivia.tif\n",
      "Determining label statistics using scikit-image took 2.4863057136535645 s\n"
     ]
    },
    {
     "data": {
      "text/html": [
       "<div>\n",
       "<style scoped>\n",
       "    .dataframe tbody tr th:only-of-type {\n",
       "        vertical-align: middle;\n",
       "    }\n",
       "\n",
       "    .dataframe tbody tr th {\n",
       "        vertical-align: top;\n",
       "    }\n",
       "\n",
       "    .dataframe thead th {\n",
       "        text-align: right;\n",
       "    }\n",
       "</style>\n",
       "<table border=\"1\" class=\"dataframe\">\n",
       "  <thead>\n",
       "    <tr style=\"text-align: right;\">\n",
       "      <th></th>\n",
       "      <th>label</th>\n",
       "      <th>bbox-0</th>\n",
       "      <th>bbox-1</th>\n",
       "      <th>bbox-2</th>\n",
       "      <th>bbox-3</th>\n",
       "      <th>bbox-4</th>\n",
       "      <th>bbox-5</th>\n",
       "    </tr>\n",
       "  </thead>\n",
       "  <tbody>\n",
       "    <tr>\n",
       "      <th>0</th>\n",
       "      <td>1</td>\n",
       "      <td>239</td>\n",
       "      <td>0</td>\n",
       "      <td>388</td>\n",
       "      <td>425</td>\n",
       "      <td>773</td>\n",
       "      <td>768</td>\n",
       "    </tr>\n",
       "    <tr>\n",
       "      <th>1</th>\n",
       "      <td>2</td>\n",
       "      <td>66</td>\n",
       "      <td>26</td>\n",
       "      <td>589</td>\n",
       "      <td>438</td>\n",
       "      <td>435</td>\n",
       "      <td>1161</td>\n",
       "    </tr>\n",
       "    <tr>\n",
       "      <th>2</th>\n",
       "      <td>3</td>\n",
       "      <td>259</td>\n",
       "      <td>0</td>\n",
       "      <td>255</td>\n",
       "      <td>358</td>\n",
       "      <td>493</td>\n",
       "      <td>728</td>\n",
       "    </tr>\n",
       "  </tbody>\n",
       "</table>\n",
       "</div>"
      ],
      "text/plain": [
       "   label  bbox-0  bbox-1  bbox-2  bbox-3  bbox-4  bbox-5\n",
       "0      1     239       0     388     425     773     768\n",
       "1      2      66      26     589     438     435    1161\n",
       "2      3     259       0     255     358     493     728"
      ]
     },
     "execution_count": 3,
     "metadata": {},
     "output_type": "execute_result"
    }
   ],
   "source": [
    "# Iterate each image in the folder\n",
    "for image in os.listdir(image_location):\n",
    "    print(\"getting statistics on: \"+image)\n",
    "    \n",
    "    img = imread(image_location+\"/\"+image)\n",
    "    short_name = os.path.splitext(image)\n",
    "    \n",
    "    # Iterate through the masks (labels) generated in Syglass\n",
    "    for labels in os.listdir(mask_location):\n",
    "        lbls = imread(mask_location+\"/\"+labels)\n",
    "        import time\n",
    "        start_time = time.time()\n",
    "\n",
    "        # get dictionary of measurements \n",
    "        props = regionprops_table(lbls)\n",
    "\n",
    "        print(\"Determining label statistics using scikit-image took \" + str(time.time() - start_time) + \" s\")  \n",
    "                          \n",
    "        # read out arrays of values\n",
    "        content = pd.DataFrame(props)\n",
    "        \n",
    "\n",
    "        label_vector = content['label']\n",
    "        content.to_csv(result_folder+'/'+str(short_name[0])+'.csv')\n",
    "\n",
    "content\n",
    "            \n",
    "        "
   ]
  },
  {
   "cell_type": "code",
   "execution_count": 7,
   "id": "52e2f334-0bfc-496c-b953-ed10091b9e33",
   "metadata": {},
   "outputs": [
    {
     "name": "stdout",
     "output_type": "stream",
     "text": [
      "Creating mask 1 tooks 6.9958226680755615 s\n",
      "Creating mask 2 tooks 6.578093767166138 s\n",
      "Creating mask 3 tooks 6.704489707946777 s\n"
     ]
    }
   ],
   "source": [
    "c=1\n",
    "a=0\n",
    "\n",
    "# Extract the raw pixels for each mask and generate an independent file for each.\n",
    "\n",
    "for index in range(0, label_vector.max()):\n",
    "    start_time = time.time()\n",
    "    output_data = np.empty_like(img)\n",
    "    output_data = np.where(lbls==c, img, 0)\n",
    "    output_data = output_data.astype(img.dtype)\n",
    "    name= '/'+str(short_name[0])+'_label_C'+str(a)+'.tif'\n",
    "    imwrite(result_folder+'/'+name, output_data, compression ='zlib')\n",
    "    print(\"Creating mask \"+str(c)+\" tooks \"+ str(time.time() - start_time) + \" s\")  \n",
    "    c+=1\n",
    "    a+=1\n",
    "    continue\n",
    "     \n",
    "    "
   ]
  },
  {
   "cell_type": "code",
   "execution_count": null,
   "id": "bcb4032a-0535-4cde-b996-4b50d7e9dc89",
   "metadata": {},
   "outputs": [],
   "source": []
  }
 ],
 "metadata": {
  "kernelspec": {
   "display_name": "Python 3 (ipykernel)",
   "language": "python",
   "name": "python3"
  },
  "language_info": {
   "codemirror_mode": {
    "name": "ipython",
    "version": 3
   },
   "file_extension": ".py",
   "mimetype": "text/x-python",
   "name": "python",
   "nbconvert_exporter": "python",
   "pygments_lexer": "ipython3",
   "version": "3.9.16"
  }
 },
 "nbformat": 4,
 "nbformat_minor": 5
}
