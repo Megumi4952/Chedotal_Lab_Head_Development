{
 "cells": [
  {
   "cell_type": "markdown",
   "id": "196ba2d4",
   "metadata": {},
   "source": [
    "Created on Tue Sep  5 10:26:12 2023\n",
    "@author: minoue\n",
    "This script takes a folder of .obj files, performs Quadratic Edge Collapse Decimation to halve the number of faces, and saves in a new folder called \"Simplified meshes.\" File names are updated with \"_simplified.obj\""
   ]
  },
  {
   "cell_type": "code",
   "execution_count": 1,
   "id": "f6717201",
   "metadata": {},
   "outputs": [],
   "source": [
    "import os\n",
    "import pymeshlab"
   ]
  },
  {
   "cell_type": "code",
   "execution_count": 2,
   "id": "3f30cafc",
   "metadata": {},
   "outputs": [],
   "source": [
    "# Path for input_folder \n",
    "input_folder = \"/Users/minoue/Desktop/Raphy_skull\""
   ]
  },
  {
   "cell_type": "code",
   "execution_count": 3,
   "id": "bba050a4",
   "metadata": {},
   "outputs": [
    {
     "name": "stdout",
     "output_type": "stream",
     "text": [
      "Mesh 'IncusG.obj' simplified and saved as '/Users/minoue/Desktop/Raphy_skull/Simplified meshes/IncusG_simplified.obj'\n",
      "Mesh 'IncusD.obj' simplified and saved as '/Users/minoue/Desktop/Raphy_skull/Simplified meshes/IncusD_simplified.obj'\n",
      "Mesh 'single_mesh.obj' simplified and saved as '/Users/minoue/Desktop/Raphy_skull/Simplified meshes/single_mesh_simplified.obj'\n",
      "All meshes have been simplified and saved in the 'Simplified meshes' folder.\n"
     ]
    }
   ],
   "source": [
    "# Create the output folder for simplified meshes\n",
    "output_folder = os.path.join(input_folder, \"Simplified meshes\")\n",
    "os.makedirs(output_folder, exist_ok=True)\n",
    "\n",
    "# Go through all OBJ files in the input folder\n",
    "input_files = [f for f in os.listdir(input_folder) if f.endswith(\".obj\")]\n",
    "\n",
    "# Initialize the pymeshlab MeshSet\n",
    "ms = pymeshlab.MeshSet()\n",
    "\n",
    "# Iterate through each input OBJ file\n",
    "for obj_file in input_files:\n",
    "    # Construct the full path to the input OBJ file\n",
    "    obj_path = os.path.join(input_folder, obj_file)\n",
    "    \n",
    "    # Create a MeshSet object\n",
    "    ms.clear()\n",
    "    \n",
    "    # Load the OBJ file\n",
    "    ms.load_new_mesh(obj_path)\n",
    "    \n",
    "    # Get the number of faces\n",
    "    num_faces = ms.current_mesh().face_number()\n",
    "    \n",
    "    # Calculate the target number of faces after halving\n",
    "    target_faces = num_faces // 2  # You can adjust this value as needed\n",
    "    \n",
    "    # Apply quadric edge collapse decimation using pymeshlab\n",
    "    ms.apply_filter(\"meshing_decimation_quadric_edge_collapse\", targetfacenum=target_faces)\n",
    "    \n",
    "    # Construct the output file path by renaming with \"_simplified.obj\" extension\n",
    "    output_file = os.path.join(output_folder, obj_file.replace('.obj', '_simplified.obj'))\n",
    "    \n",
    "    # Save the simplified mesh as a new OBJ file\n",
    "    ms.save_current_mesh(output_file)\n",
    "    \n",
    "    print(f\"Mesh '{obj_file}' simplified and saved as '{output_file}'\")\n",
    "\n",
    "print(\"All meshes have been simplified and saved in the 'Simplified meshes' folder.\")"
   ]
  }
 ],
 "metadata": {
  "kernelspec": {
   "display_name": "Python 3 (ipykernel)",
   "language": "python",
   "name": "python3"
  },
  "language_info": {
   "codemirror_mode": {
    "name": "ipython",
    "version": 3
   },
   "file_extension": ".py",
   "mimetype": "text/x-python",
   "name": "python",
   "nbconvert_exporter": "python",
   "pygments_lexer": "ipython3",
   "version": "3.9.18"
  }
 },
 "nbformat": 4,
 "nbformat_minor": 5
}
